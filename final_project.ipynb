{
 "cells": [
  {
   "cell_type": "code",
   "execution_count": 37,
   "id": "5b13e578-dd5f-4a72-8200-e8fd6135d7a8",
   "metadata": {},
   "outputs": [],
   "source": [
    "%matplotlib inline\n",
    "import numpy as np\n",
    "import time\n",
    "from linear_solvers import NumPyLinearSolver, HHL\n",
    "from qiskit.quantum_info import Statevector\n",
    "from qiskit import *\n",
    "from qiskit.tools.visualization import plot_histogram\n",
    "\n",
    "\n",
    "def get_solution_vector(solution):\n",
    "    \"\"\"Extracts and normalizes simulated state vector\n",
    "    from LinearSolverResult.\"\"\"\n",
    "    solution_vector = Statevector(solution.state).data[16:18].real\n",
    "    norm = solution.euclidean_norm\n",
    "    return norm * solution_vector / np.linalg.norm(solution_vector)\n"
   ]
  },
  {
   "cell_type": "code",
   "execution_count": 38,
   "id": "291fe79e-2106-47b4-946a-08d045d7cfac",
   "metadata": {},
   "outputs": [
    {
     "name": "stdout",
     "output_type": "stream",
     "text": [
      "Naive Solution\n",
      " -0.15151691436767578 seconds\n",
      " {   'circuit_results': None,\n",
      "    'euclidean_norm': 1.1858541225631403,\n",
      "    'observable': None,\n",
      "    'state': <qiskit.circuit.quantumcircuit.QuantumCircuit object at 0x00000137840CCFD0>}\n",
      "naive raw solution vector: [0.75+3.06378528e-16j 0.25+4.51437106e-17j]\n",
      "full naive solution vector: [1.125 0.375]\n",
      "        ┌──────────────┐┌──────┐        ┌─────────┐\n",
      "  q404: ┤ circuit-2942 ├┤3     ├────────┤3        ├\n",
      "        └──────────────┘│      │┌──────┐│         │\n",
      "q405_0: ────────────────┤0     ├┤2     ├┤0        ├\n",
      "                        │  QPE ││      ││  QPE_dg │\n",
      "q405_1: ────────────────┤1     ├┤1     ├┤1        ├\n",
      "                        │      ││  1/x ││         │\n",
      "q405_2: ────────────────┤2     ├┤0     ├┤2        ├\n",
      "                        └──────┘│      │└─────────┘\n",
      "  q406: ────────────────────────┤3     ├───────────\n",
      "                                └──────┘           \n"
     ]
    },
    {
     "ename": "AttributeError",
     "evalue": "'numpy.ndarray' object has no attribute 'name'",
     "output_type": "error",
     "traceback": [
      "\u001b[1;31m---------------------------------------------------------------------------\u001b[0m",
      "\u001b[1;31mAttributeError\u001b[0m                            Traceback (most recent call last)",
      "\u001b[1;32mc:\\Users\\Nick\\OneDrive\\Desktop\\github\\cs797w-final-project\\final_project.ipynb Cell 2\u001b[0m line \u001b[0;36m1\n\u001b[0;32m     <a href='vscode-notebook-cell:/c%3A/Users/Nick/OneDrive/Desktop/github/cs797w-final-project/final_project.ipynb#W1sZmlsZQ%3D%3D?line=15'>16</a>\u001b[0m \u001b[39mprint\u001b[39m(naive_hhl_solution\u001b[39m.\u001b[39mstate)\n\u001b[0;32m     <a href='vscode-notebook-cell:/c%3A/Users/Nick/OneDrive/Desktop/github/cs797w-final-project/final_project.ipynb#W1sZmlsZQ%3D%3D?line=17'>18</a>\u001b[0m simulator \u001b[39m=\u001b[39m Aer\u001b[39m.\u001b[39mget_backend(\u001b[39m'\u001b[39m\u001b[39mstatevector_simulator\u001b[39m\u001b[39m'\u001b[39m)\n\u001b[1;32m---> <a href='vscode-notebook-cell:/c%3A/Users/Nick/OneDrive/Desktop/github/cs797w-final-project/final_project.ipynb#W1sZmlsZQ%3D%3D?line=18'>19</a>\u001b[0m res \u001b[39m=\u001b[39m execute(naive_sv, backend\u001b[39m=\u001b[39;49msimulator, shots\u001b[39m=\u001b[39;49m\u001b[39m1024\u001b[39;49m)\u001b[39m.\u001b[39mresult()\n\u001b[0;32m     <a href='vscode-notebook-cell:/c%3A/Users/Nick/OneDrive/Desktop/github/cs797w-final-project/final_project.ipynb#W1sZmlsZQ%3D%3D?line=19'>20</a>\u001b[0m plot_histogram(res\u001b[39m.\u001b[39mget_counts())\n",
      "File \u001b[1;32mc:\\Users\\Nick\\OneDrive\\Desktop\\github\\cs797w-final-project\\env\\lib\\site-packages\\qiskit\\utils\\deprecation.py:182\u001b[0m, in \u001b[0;36mdeprecate_arg.<locals>.decorator.<locals>.wrapper\u001b[1;34m(*args, **kwargs)\u001b[0m\n\u001b[0;32m    169\u001b[0m \u001b[39m@functools\u001b[39m\u001b[39m.\u001b[39mwraps(func)\n\u001b[0;32m    170\u001b[0m \u001b[39mdef\u001b[39;00m \u001b[39mwrapper\u001b[39m(\u001b[39m*\u001b[39margs, \u001b[39m*\u001b[39m\u001b[39m*\u001b[39mkwargs):\n\u001b[0;32m    171\u001b[0m     _maybe_warn_and_rename_kwarg(\n\u001b[0;32m    172\u001b[0m         args,\n\u001b[0;32m    173\u001b[0m         kwargs,\n\u001b[1;32m   (...)\u001b[0m\n\u001b[0;32m    180\u001b[0m         predicate\u001b[39m=\u001b[39mpredicate,\n\u001b[0;32m    181\u001b[0m     )\n\u001b[1;32m--> 182\u001b[0m     \u001b[39mreturn\u001b[39;00m func(\u001b[39m*\u001b[39margs, \u001b[39m*\u001b[39m\u001b[39m*\u001b[39mkwargs)\n",
      "File \u001b[1;32mc:\\Users\\Nick\\OneDrive\\Desktop\\github\\cs797w-final-project\\env\\lib\\site-packages\\qiskit\\utils\\deprecation.py:182\u001b[0m, in \u001b[0;36mdeprecate_arg.<locals>.decorator.<locals>.wrapper\u001b[1;34m(*args, **kwargs)\u001b[0m\n\u001b[0;32m    169\u001b[0m \u001b[39m@functools\u001b[39m\u001b[39m.\u001b[39mwraps(func)\n\u001b[0;32m    170\u001b[0m \u001b[39mdef\u001b[39;00m \u001b[39mwrapper\u001b[39m(\u001b[39m*\u001b[39margs, \u001b[39m*\u001b[39m\u001b[39m*\u001b[39mkwargs):\n\u001b[0;32m    171\u001b[0m     _maybe_warn_and_rename_kwarg(\n\u001b[0;32m    172\u001b[0m         args,\n\u001b[0;32m    173\u001b[0m         kwargs,\n\u001b[1;32m   (...)\u001b[0m\n\u001b[0;32m    180\u001b[0m         predicate\u001b[39m=\u001b[39mpredicate,\n\u001b[0;32m    181\u001b[0m     )\n\u001b[1;32m--> 182\u001b[0m     \u001b[39mreturn\u001b[39;00m func(\u001b[39m*\u001b[39margs, \u001b[39m*\u001b[39m\u001b[39m*\u001b[39mkwargs)\n",
      "File \u001b[1;32mc:\\Users\\Nick\\OneDrive\\Desktop\\github\\cs797w-final-project\\env\\lib\\site-packages\\qiskit\\execute_function.py:304\u001b[0m, in \u001b[0;36mexecute\u001b[1;34m(***failed resolving arguments***)\u001b[0m\n\u001b[0;32m    301\u001b[0m     experiments \u001b[39m=\u001b[39m pass_manager\u001b[39m.\u001b[39mrun(experiments)\n\u001b[0;32m    302\u001b[0m \u001b[39melse\u001b[39;00m:\n\u001b[0;32m    303\u001b[0m     \u001b[39m# transpiling the circuits using given transpile options\u001b[39;00m\n\u001b[1;32m--> 304\u001b[0m     experiments \u001b[39m=\u001b[39m transpile(\n\u001b[0;32m    305\u001b[0m         experiments,\n\u001b[0;32m    306\u001b[0m         basis_gates\u001b[39m=\u001b[39;49mbasis_gates,\n\u001b[0;32m    307\u001b[0m         coupling_map\u001b[39m=\u001b[39;49mcoupling_map,\n\u001b[0;32m    308\u001b[0m         backend_properties\u001b[39m=\u001b[39;49mbackend_properties,\n\u001b[0;32m    309\u001b[0m         initial_layout\u001b[39m=\u001b[39;49minitial_layout,\n\u001b[0;32m    310\u001b[0m         seed_transpiler\u001b[39m=\u001b[39;49mseed_transpiler,\n\u001b[0;32m    311\u001b[0m         optimization_level\u001b[39m=\u001b[39;49moptimization_level,\n\u001b[0;32m    312\u001b[0m         backend\u001b[39m=\u001b[39;49mbackend,\n\u001b[0;32m    313\u001b[0m     )\n\u001b[0;32m    315\u001b[0m \u001b[39mif\u001b[39;00m schedule_circuit:\n\u001b[0;32m    316\u001b[0m     experiments \u001b[39m=\u001b[39m schedule(\n\u001b[0;32m    317\u001b[0m         circuits\u001b[39m=\u001b[39mexperiments,\n\u001b[0;32m    318\u001b[0m         backend\u001b[39m=\u001b[39mbackend,\n\u001b[1;32m   (...)\u001b[0m\n\u001b[0;32m    321\u001b[0m         method\u001b[39m=\u001b[39mscheduling_method,\n\u001b[0;32m    322\u001b[0m     )\n",
      "File \u001b[1;32mc:\\Users\\Nick\\OneDrive\\Desktop\\github\\cs797w-final-project\\env\\lib\\site-packages\\qiskit\\compiler\\transpiler.py:331\u001b[0m, in \u001b[0;36mtranspile\u001b[1;34m(circuits, backend, basis_gates, inst_map, coupling_map, backend_properties, initial_layout, layout_method, routing_method, translation_method, scheduling_method, instruction_durations, dt, approximation_degree, timing_constraints, seed_transpiler, optimization_level, callback, output_name, unitary_synthesis_method, unitary_synthesis_plugin_config, target, hls_config, init_method, optimization_method, ignore_backend_supplied_default_methods)\u001b[0m\n\u001b[0;32m    328\u001b[0m coupling_map \u001b[39m=\u001b[39m _parse_coupling_map(coupling_map, backend)\n\u001b[0;32m    329\u001b[0m approximation_degree \u001b[39m=\u001b[39m _parse_approximation_degree(approximation_degree)\n\u001b[1;32m--> 331\u001b[0m output_name \u001b[39m=\u001b[39m _parse_output_name(output_name, circuits)\n\u001b[0;32m    332\u001b[0m inst_map \u001b[39m=\u001b[39m _parse_inst_map(inst_map, backend)\n\u001b[0;32m    334\u001b[0m _check_circuits_coupling_map(circuits, coupling_map, backend)\n",
      "File \u001b[1;32mc:\\Users\\Nick\\OneDrive\\Desktop\\github\\cs797w-final-project\\env\\lib\\site-packages\\qiskit\\compiler\\transpiler.py:586\u001b[0m, in \u001b[0;36m_parse_output_name\u001b[1;34m(output_name, circuits)\u001b[0m\n\u001b[0;32m    581\u001b[0m         \u001b[39mraise\u001b[39;00m TranspilerError(\n\u001b[0;32m    582\u001b[0m             \u001b[39m\"\u001b[39m\u001b[39mThe parameter output_name should be a string or a\u001b[39m\u001b[39m\"\u001b[39m\n\u001b[0;32m    583\u001b[0m             \u001b[39m\"\u001b[39m\u001b[39mlist of strings: \u001b[39m\u001b[39m%s\u001b[39;00m\u001b[39m was used.\u001b[39m\u001b[39m\"\u001b[39m \u001b[39m%\u001b[39m \u001b[39mtype\u001b[39m(output_name)\n\u001b[0;32m    584\u001b[0m         )\n\u001b[0;32m    585\u001b[0m \u001b[39melse\u001b[39;00m:\n\u001b[1;32m--> 586\u001b[0m     \u001b[39mreturn\u001b[39;00m [circuit\u001b[39m.\u001b[39mname \u001b[39mfor\u001b[39;00m circuit \u001b[39min\u001b[39;00m circuits]\n",
      "File \u001b[1;32mc:\\Users\\Nick\\OneDrive\\Desktop\\github\\cs797w-final-project\\env\\lib\\site-packages\\qiskit\\compiler\\transpiler.py:586\u001b[0m, in \u001b[0;36m<listcomp>\u001b[1;34m(.0)\u001b[0m\n\u001b[0;32m    581\u001b[0m         \u001b[39mraise\u001b[39;00m TranspilerError(\n\u001b[0;32m    582\u001b[0m             \u001b[39m\"\u001b[39m\u001b[39mThe parameter output_name should be a string or a\u001b[39m\u001b[39m\"\u001b[39m\n\u001b[0;32m    583\u001b[0m             \u001b[39m\"\u001b[39m\u001b[39mlist of strings: \u001b[39m\u001b[39m%s\u001b[39;00m\u001b[39m was used.\u001b[39m\u001b[39m\"\u001b[39m \u001b[39m%\u001b[39m \u001b[39mtype\u001b[39m(output_name)\n\u001b[0;32m    584\u001b[0m         )\n\u001b[0;32m    585\u001b[0m \u001b[39melse\u001b[39;00m:\n\u001b[1;32m--> 586\u001b[0m     \u001b[39mreturn\u001b[39;00m [circuit\u001b[39m.\u001b[39;49mname \u001b[39mfor\u001b[39;00m circuit \u001b[39min\u001b[39;00m circuits]\n",
      "\u001b[1;31mAttributeError\u001b[0m: 'numpy.ndarray' object has no attribute 'name'"
     ]
    }
   ],
   "source": [
    "matrix = np.array([ [1, -1/3], [-1/3, 1] ])\n",
    "vector = np.array([1, 0])\n",
    "\n",
    "start_time = time.time()\n",
    "naive_hhl_solution = HHL().solve(matrix, vector)\n",
    "end_time = time.time()\n",
    "print('Naive Solution\\n', start_time - end_time, 'seconds\\n', naive_hhl_solution)\n",
    "\n",
    "naive_sv = Statevector(naive_hhl_solution.state).data\n",
    "naive_full_vector = np.array([naive_sv[16], naive_sv[17]])\n",
    "\n",
    "# Raw vector = components expressed complex numbers\n",
    "# Full vector = components expressed in the real numbers\n",
    "print('naive raw solution vector:', naive_full_vector)\n",
    "print('full naive solution vector:', get_solution_vector(naive_hhl_solution))\n",
    "print(naive_hhl_solution.state)\n",
    "\n",
    "simulator = Aer.get_backend('statevector_simulator')\n",
    "res = execute(naive_hhl_solution.state, backend=simulator, shots=1024).result()\n",
    "plot_histogram(res.get_counts())\n"
   ]
  },
  {
   "cell_type": "code",
   "execution_count": null,
   "id": "7433f6b5-451b-4ac1-83b6-069c9382704b",
   "metadata": {},
   "outputs": [
    {
     "name": "stdout",
     "output_type": "stream",
     "text": [
      "Classical Solution 0.0 seconds\n",
      " [1.125 0.375]\n"
     ]
    }
   ],
   "source": [
    "start_time = time.time()\n",
    "classical_solution = NumPyLinearSolver().solve(matrix,\n",
    "                                               vector/np.linalg.norm(vector))\n",
    "end_time = time.time()\n",
    "print('Classical Solution', start_time - end_time, 'seconds\\n', classical_solution.state)\n"
   ]
  }
 ],
 "metadata": {
  "kernelspec": {
   "display_name": "Python 3 (ipykernel)",
   "language": "python",
   "name": "python3"
  },
  "language_info": {
   "codemirror_mode": {
    "name": "ipython",
    "version": 3
   },
   "file_extension": ".py",
   "mimetype": "text/x-python",
   "name": "python",
   "nbconvert_exporter": "python",
   "pygments_lexer": "ipython3",
   "version": "3.10.10"
  }
 },
 "nbformat": 4,
 "nbformat_minor": 5
}
