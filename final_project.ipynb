{
 "cells": [
  {
   "cell_type": "code",
   "execution_count": 9,
   "id": "5b13e578-dd5f-4a72-8200-e8fd6135d7a8",
   "metadata": {},
   "outputs": [],
   "source": [
    "%matplotlib inline\n",
    "import numpy as np\n",
    "import time\n",
    "from linear_solvers import NumPyLinearSolver, HHL"
   ]
  },
  {
   "cell_type": "code",
   "execution_count": 10,
   "id": "291fe79e-2106-47b4-946a-08d045d7cfac",
   "metadata": {},
   "outputs": [
    {
     "name": "stdout",
     "output_type": "stream",
     "text": [
      "Naive Solution\n",
      " -0.14153218269348145 seconds\n",
      " {   'circuit_results': None,\n",
      "    'euclidean_norm': 1.1858541225631403,\n",
      "    'observable': None,\n",
      "    'state': <qiskit.circuit.quantumcircuit.QuantumCircuit object at 0x0000021DC7E95570>}\n"
     ]
    }
   ],
   "source": [
    "matrix = np.array([ [1, -1/3], [-1/3, 1] ])\n",
    "vector = np.array([1, 0])\n",
    "\n",
    "start_time = time.time()\n",
    "naive_hhl_solution = HHL().solve(matrix, vector)\n",
    "end_time = time.time()\n",
    "print('Naive Solution\\n', start_time - end_time, 'seconds\\n', naive_hhl_solution)"
   ]
  },
  {
   "cell_type": "code",
   "execution_count": 11,
   "id": "7433f6b5-451b-4ac1-83b6-069c9382704b",
   "metadata": {},
   "outputs": [
    {
     "name": "stdout",
     "output_type": "stream",
     "text": [
      "Classical Solution 0.0 seconds\n",
      " [1.125 0.375]\n"
     ]
    }
   ],
   "source": [
    "start_time = time.time()\n",
    "classical_solution = NumPyLinearSolver().solve(matrix,\n",
    "                                               vector/np.linalg.norm(vector))\n",
    "end_time = time.time()\n",
    "print('Classical Solution', start_time - end_time, 'seconds\\n', classical_solution.state)\n"
   ]
  },
  {
   "cell_type": "code",
   "execution_count": 12,
   "id": "82c6ac93-b590-4012-8c61-f53dca7c5f9d",
   "metadata": {},
   "outputs": [
    {
     "name": "stdout",
     "output_type": "stream",
     "text": [
      "       ┌─────────────┐┌──────┐        ┌─────────┐\n",
      "  q48: ┤ circuit-553 ├┤3     ├────────┤3        ├\n",
      "       └─────────────┘│      │┌──────┐│         │\n",
      "q49_0: ───────────────┤0     ├┤2     ├┤0        ├\n",
      "                      │  QPE ││      ││  QPE_dg │\n",
      "q49_1: ───────────────┤1     ├┤1     ├┤1        ├\n",
      "                      │      ││  1/x ││         │\n",
      "q49_2: ───────────────┤2     ├┤0     ├┤2        ├\n",
      "                      └──────┘│      │└─────────┘\n",
      "  q50: ───────────────────────┤3     ├───────────\n",
      "                              └──────┘           \n",
      "<bound method QuantumCircuit.count_ops of <qiskit.circuit.quantumcircuit.QuantumCircuit object at 0x0000021DC7E95570>>\n"
     ]
    }
   ],
   "source": [
    "print(naive_hhl_solution.state)"
   ]
  }
 ],
 "metadata": {
  "kernelspec": {
   "display_name": "Python 3 (ipykernel)",
   "language": "python",
   "name": "python3"
  },
  "language_info": {
   "codemirror_mode": {
    "name": "ipython",
    "version": 3
   },
   "file_extension": ".py",
   "mimetype": "text/x-python",
   "name": "python",
   "nbconvert_exporter": "python",
   "pygments_lexer": "ipython3",
   "version": "3.10.10"
  }
 },
 "nbformat": 4,
 "nbformat_minor": 5
}
