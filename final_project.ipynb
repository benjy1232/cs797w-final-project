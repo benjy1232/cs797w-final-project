{
 "cells": [
  {
   "cell_type": "code",
   "execution_count": 1,
   "id": "5b13e578-dd5f-4a72-8200-e8fd6135d7a8",
   "metadata": {},
   "outputs": [],
   "source": [
    "%matplotlib inline\n",
    "import numpy as np\n",
    "from linear_solvers import NumPyLinearSolver, HHL"
   ]
  },
  {
   "cell_type": "code",
   "execution_count": 2,
   "id": "291fe79e-2106-47b4-946a-08d045d7cfac",
   "metadata": {},
   "outputs": [
    {
     "name": "stdout",
     "output_type": "stream",
     "text": [
      "{   'circuit_results': None,\n",
      "    'euclidean_norm': 1.1858541225631376,\n",
      "    'observable': None,\n",
      "    'state': <qiskit.circuit.quantumcircuit.QuantumCircuit object at 0x7f099bcd56d0>}\n"
     ]
    }
   ],
   "source": [
    "matrix = np.array([ [1, -1/3], [-1/3, 1] ])\n",
    "vector = np.array([1, 0])\n",
    "naive_hhl_solution = HHL().solve(matrix, vector)\n",
    "print(naive_hhl_solution)"
   ]
  },
  {
   "cell_type": "code",
   "execution_count": 3,
   "id": "7433f6b5-451b-4ac1-83b6-069c9382704b",
   "metadata": {},
   "outputs": [],
   "source": [
    "classical_solution = NumPyLinearSolver().solve(matrix,\n",
    "                                               vector/np.linalg.norm(vector))"
   ]
  },
  {
   "cell_type": "code",
   "execution_count": 10,
   "id": "0f575194-bfac-4ab4-a37a-066d0bcb048c",
   "metadata": {},
   "outputs": [
    {
     "name": "stdout",
     "output_type": "stream",
     "text": [
      "[1.125 0.375]\n"
     ]
    }
   ],
   "source": [
    "# print(classical_solution.__dir__())\n",
    "print(classical_solution.state)"
   ]
  },
  {
   "cell_type": "code",
   "execution_count": 11,
   "id": "82c6ac93-b590-4012-8c61-f53dca7c5f9d",
   "metadata": {},
   "outputs": [
    {
     "name": "stdout",
     "output_type": "stream",
     "text": [
      "      ┌─────────────┐┌──────┐        ┌─────────┐\n",
      "  q4: ┤ circuit-127 ├┤3     ├────────┤3        ├\n",
      "      └─────────────┘│      │┌──────┐│         │\n",
      "q5_0: ───────────────┤0     ├┤2     ├┤0        ├\n",
      "                     │  QPE ││      ││  QPE_dg │\n",
      "q5_1: ───────────────┤1     ├┤1     ├┤1        ├\n",
      "                     │      ││  1/x ││         │\n",
      "q5_2: ───────────────┤2     ├┤0     ├┤2        ├\n",
      "                     └──────┘│      │└─────────┘\n",
      "  q6: ───────────────────────┤3     ├───────────\n",
      "                             └──────┘           \n"
     ]
    }
   ],
   "source": [
    "print(naive_hhl_solution.state)"
   ]
  }
 ],
 "metadata": {
  "kernelspec": {
   "display_name": "Python 3 (ipykernel)",
   "language": "python",
   "name": "python3"
  },
  "language_info": {
   "codemirror_mode": {
    "name": "ipython",
    "version": 3
   },
   "file_extension": ".py",
   "mimetype": "text/x-python",
   "name": "python",
   "nbconvert_exporter": "python",
   "pygments_lexer": "ipython3",
   "version": "3.11.6"
  }
 },
 "nbformat": 4,
 "nbformat_minor": 5
}
