{
 "cells": [
  {
   "cell_type": "code",
   "execution_count": 1,
   "metadata": {},
   "outputs": [
    {
     "name": "stdout",
     "output_type": "stream",
     "text": [
      "Solution: [1.125 0.375]\n",
      "Elapsed Time: -0.0009996891021728516 seconds\n"
     ]
    }
   ],
   "source": [
    "\"\"\"Script to solve for a linear system using the conjugate gradient method.\"\"\"\n",
    "import numpy as np\n",
    "import time\n",
    "from scipy.sparse.linalg import cg\n",
    "\n",
    "matrix = np.array([ [1, -1/3], [-1/3, 1] ])\n",
    "vector = np.array([1, 0])\n",
    "\n",
    "start_time = time.time()\n",
    "solution, info = cg(matrix, vector)\n",
    "end_time = time.time()\n",
    "\n",
    "print(\"Solution:\", solution)\n",
    "print(\"Elapsed Time:\", start_time - end_time, \"seconds\")"
   ]
  }
 ],
 "metadata": {
  "kernelspec": {
   "display_name": "env",
   "language": "python",
   "name": "python3"
  },
  "language_info": {
   "codemirror_mode": {
    "name": "ipython",
    "version": 3
   },
   "file_extension": ".py",
   "mimetype": "text/x-python",
   "name": "python",
   "nbconvert_exporter": "python",
   "pygments_lexer": "ipython3",
   "version": "3.10.10"
  }
 },
 "nbformat": 4,
 "nbformat_minor": 2
}
