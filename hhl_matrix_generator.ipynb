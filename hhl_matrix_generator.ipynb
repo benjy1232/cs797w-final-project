{
 "cells": [
  {
   "cell_type": "code",
   "execution_count": 1,
   "metadata": {},
   "outputs": [
    {
     "name": "stdout",
     "output_type": "stream",
     "text": [
      "HHL Solution:\n",
      " {   'circuit_results': None,\n",
      "    'euclidean_norm': 1.1381961670141532,\n",
      "    'observable': None,\n",
      "    'state': <qiskit.circuit.quantumcircuit.QuantumCircuit object at 0x000001CD7CA66DD0>}\n",
      "Execution Time: 0.22354912757873535 seconds\n",
      "      ┌─────────────┐┌──────┐        ┌─────────┐\n",
      "  q4: ┤ circuit-127 ├┤4     ├────────┤4        ├\n",
      "      └─────────────┘│      │┌──────┐│         │\n",
      "q5_0: ───────────────┤0     ├┤3     ├┤0        ├\n",
      "                     │      ││      ││         │\n",
      "q5_1: ───────────────┤1 QPE ├┤2     ├┤1 QPE_dg ├\n",
      "                     │      ││      ││         │\n",
      "q5_2: ───────────────┤2     ├┤1 1/x ├┤2        ├\n",
      "                     │      ││      ││         │\n",
      "q5_3: ───────────────┤3     ├┤0     ├┤3        ├\n",
      "                     └──────┘│      │└─────────┘\n",
      "  q6: ───────────────────────┤4     ├───────────\n",
      "                             └──────┘           \n"
     ]
    }
   ],
   "source": [
    "\"\"\"\n",
    "Script that generates a random Sparse Hermitian Matrix that can be used in the HHL Algorithm.\n",
    "\n",
    "Note: I would not go more than a matrix size of 2 because it will take a long time for the HHL algorithm to solve the system.\n",
    "      I picked seed 42 here so we could run the same matrix with the classical algorithm to compare results.\n",
    "\"\"\"\n",
    "from linear_solvers import HHL\n",
    "import numpy as np\n",
    "import time\n",
    "\n",
    "# Set a specific seed for reproducibility\n",
    "np.random.seed(42)\n",
    "\n",
    "# Generate random values and indices for a sparse Hermitian matrix\n",
    "matrix_size = 2\n",
    "num_nonzero_elements = 2  # Adjust as needed\n",
    "\n",
    "nonzero_indices = np.random.choice(matrix_size * matrix_size, num_nonzero_elements, replace=False)\n",
    "row_indices = nonzero_indices // matrix_size\n",
    "col_indices = nonzero_indices % matrix_size\n",
    "nonzero_values = np.random.rand(num_nonzero_elements)\n",
    "\n",
    "# Create the sparse Hermitian matrix\n",
    "sparse_matrix = np.zeros((matrix_size, matrix_size), dtype=np.complex_)\n",
    "sparse_matrix[row_indices, col_indices] = nonzero_values\n",
    "hermitian_matrix = sparse_matrix + np.conjugate(sparse_matrix.T)\n",
    "\n",
    "# Create a vector\n",
    "vector = np.ones(matrix_size)\n",
    "\n",
    "# Start and time the HHL algorithm\n",
    "hhl_circuit = HHL()\n",
    "start_time = time.time()\n",
    "result = hhl_circuit.solve(matrix=hermitian_matrix, vector=vector)\n",
    "end_time = time.time()\n",
    "\n",
    "# Display the result and timing information\n",
    "print('HHL Solution:\\n', result)\n",
    "print('Execution Time:', end_time - start_time, 'seconds')\n",
    "print(result.state)"
   ]
  }
 ],
 "metadata": {
  "kernelspec": {
   "display_name": "env",
   "language": "python",
   "name": "python3"
  },
  "language_info": {
   "codemirror_mode": {
    "name": "ipython",
    "version": 3
   },
   "file_extension": ".py",
   "mimetype": "text/x-python",
   "name": "python",
   "nbconvert_exporter": "python",
   "pygments_lexer": "ipython3",
   "version": "3.10.10"
  }
 },
 "nbformat": 4,
 "nbformat_minor": 2
}
